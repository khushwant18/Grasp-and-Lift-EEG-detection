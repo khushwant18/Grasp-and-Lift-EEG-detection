{
  "nbformat": 4,
  "nbformat_minor": 0,
  "metadata": {
    "accelerator": "GPU",
    "colab": {
      "name": "CNN.ipynb",
      "provenance": [],
      "collapsed_sections": [],
      "machine_shape": "hm"
    },
    "kernelspec": {
      "name": "python3",
      "display_name": "Python 3"
    },
    "language_info": {
      "codemirror_mode": {
        "name": "ipython",
        "version": 3
      },
      "file_extension": ".py",
      "mimetype": "text/x-python",
      "name": "python",
      "nbconvert_exporter": "python",
      "pygments_lexer": "ipython3",
      "version": "3.6.9"
    }
  },
  "cells": [
    {
      "cell_type": "code",
      "metadata": {
        "colab_type": "code",
        "id": "41jtg-INEmTA",
        "colab": {}
      },
      "source": [
        "import numpy as np\n",
        "import pandas as pd\n",
        "from sklearn.preprocessing import StandardScaler\n",
        "from sklearn.model_selection import train_test_split\n",
        "from keras.models import Sequential, Model\n",
        "from keras.layers import Conv2D, Flatten, MaxPooling2D, Dense,BatchNormalization, Dropout, Input\n",
        "from keras.optimizers import adam\n",
        "from sklearn.metrics import accuracy_score, precision_score, recall_score, f1_score, roc_auc_score\n",
        "import matplotlib.pyplot as plt\n",
        "from sklearn import metrics\n",
        "import glob\n",
        "from scipy import signal"
      ],
      "execution_count": 0,
      "outputs": []
    },
    {
      "cell_type": "markdown",
      "metadata": {
        "id": "u2dRyzYp5F4O",
        "colab_type": "text"
      },
      "source": [
        "Reading Train Data"
      ]
    },
    {
      "cell_type": "code",
      "metadata": {
        "id": "k-QsRIxfG9LP",
        "colab_type": "code",
        "colab": {}
      },
      "source": [
        "#read csv file from the path\n",
        "xpath = r'Dataset/train_set/features/' \n",
        "xfiles = glob.glob(xpath + \"/*.csv\")\n",
        "ypath = r'Dataset/train_set/labels/' \n",
        "yfiles = glob.glob(ypath + \"/*.csv\")\n",
        "\n",
        "xli = []\n",
        "yli = []\n",
        "\n",
        "for f in xfiles:\n",
        "    df = pd.read_csv(f, index_col=None, header=0)\n",
        "    xli.append(df)\n",
        "\n",
        "for f in yfiles:\n",
        "    df = pd.read_csv(f, index_col=None, header=0)\n",
        "    yli.append(df)\n",
        "    \n",
        "#concatatenate all the dataframes in the li\n",
        "x_df = pd.concat(xli, axis=0, ignore_index=True)\n",
        "x_df = x_df.iloc[:,1:]\n",
        "x_data=x_df.values\n",
        "\n",
        "y_df = pd.concat(yli, axis=0, ignore_index=True)\n",
        "y_df = y_df.iloc[:,1:]\n",
        "y_data=y_df.values"
      ],
      "execution_count": 0,
      "outputs": []
    },
    {
      "cell_type": "markdown",
      "metadata": {
        "id": "JSCM-vHR5L4l",
        "colab_type": "text"
      },
      "source": [
        "Standardization"
      ]
    },
    {
      "cell_type": "code",
      "metadata": {
        "colab_type": "code",
        "id": "kSJSBlgvnczE",
        "colab": {}
      },
      "source": [
        "Xsc = StandardScaler().fit_transform(x_data)\n",
        "Xsc=pd.DataFrame(Xsc)\n",
        "y=pd.DataFrame(y_data)"
      ],
      "execution_count": 0,
      "outputs": []
    },
    {
      "cell_type": "markdown",
      "metadata": {
        "id": "k0Zai7T15SpO",
        "colab_type": "text"
      },
      "source": [
        "Generator Function"
      ]
    },
    {
      "cell_type": "code",
      "metadata": {
        "id": "Xa3F_ZUTz4g2",
        "colab_type": "code",
        "colab": {}
      },
      "source": [
        "time_steps=1000\n",
        "subsample=100\n",
        "def generator(batch_size,x_train,feature):\n",
        "    while 1:\n",
        "        \n",
        "        x_time_data = np.zeros((batch_size, time_steps//subsample, feature))\n",
        "        yy = []\n",
        "        for i in range(batch_size):\n",
        "            random_index = np.random.randint(0, len(x_train)-time_steps)\n",
        "            x_time_data[i] = x_train[random_index:random_index+time_steps:subsample]\n",
        "            yy.append(y_data[random_index + time_steps])\n",
        "        yy = np.asarray(yy)\n",
        "        yield x_time_data.reshape((x_time_data.shape[0],x_time_data.shape[1], x_time_data.shape[2], 1)), yy"
      ],
      "execution_count": 0,
      "outputs": []
    },
    {
      "cell_type": "markdown",
      "metadata": {
        "id": "NfGFPKEs5a9T",
        "colab_type": "text"
      },
      "source": [
        "Without PCA and without Filter model"
      ]
    },
    {
      "cell_type": "code",
      "metadata": {
        "id": "6-t7bz0IzSNH",
        "colab_type": "code",
        "colab": {}
      },
      "source": [
        "model = Sequential()\n",
        "model.add(Conv2D(filters = 64, kernel_size = (7,7), padding = \"same\", activation = \"relu\", input_shape = (time_steps//subsample, 32, 1)))\n",
        "model.add(BatchNormalization())\n",
        "model.add(Conv2D(filters = 64, kernel_size = (5,5), padding = \"same\", activation = \"relu\", input_shape = (time_steps//subsample, 32, 1)))\n",
        "model.add(BatchNormalization())\n",
        "model.add(Conv2D(filters = 64, kernel_size = (3,3), padding = \"same\", activation = \"relu\", input_shape = (time_steps//subsample, 32, 1)))\n",
        "model.add(BatchNormalization())\n",
        "model.add(Flatten())\n",
        "model.add(Dense(32, activation = \"relu\"))\n",
        "model.add(BatchNormalization())\n",
        "model.add(Dense(6, activation = \"sigmoid\"))\n",
        "\n",
        "adam = adam(lr = 0.001)\n",
        "\n",
        "model.compile(optimizer = adam, loss = \"categorical_crossentropy\", metrics = [\"accuracy\"])\n",
        "\n",
        "model.summary()"
      ],
      "execution_count": 0,
      "outputs": []
    },
    {
      "cell_type": "code",
      "metadata": {
        "colab_type": "code",
        "id": "ns7S-QDCXB61",
        "colab": {}
      },
      "source": [
        "model.fit_generator(generator(32,x_data,32), steps_per_epoch = 20000, epochs = 25)"
      ],
      "execution_count": 0,
      "outputs": []
    },
    {
      "cell_type": "markdown",
      "metadata": {
        "id": "nzsVnbPQ5jDx",
        "colab_type": "text"
      },
      "source": [
        "Reading Test Data"
      ]
    },
    {
      "cell_type": "code",
      "metadata": {
        "id": "HKs1GU2ULg6f",
        "colab_type": "code",
        "colab": {}
      },
      "source": [
        "#read csv file from the path\n",
        "xtestpath = r'Dataset/test_set/features/' \n",
        "xtestfiles = glob.glob(xtestpath + \"/*.csv\")\n",
        "ytestpath = r'Dataset/test_set/labels/' \n",
        "ytestfiles = glob.glob(ytestpath + \"/*.csv\")\n",
        "\n",
        "xtestli = []\n",
        "ytestli = []\n",
        "\n",
        "for f in xtestfiles:\n",
        "    df = pd.read_csv(f, index_col=None, header=0)\n",
        "    xtestli.append(df)\n",
        "\n",
        "for f in ytestfiles:\n",
        "    df = pd.read_csv(f, index_col=None, header=0)\n",
        "    ytestli.append(df)\n",
        "    \n",
        "#concatatenate all the dataframes in the li\n",
        "x_ts_df = pd.concat(xtestli, axis=0, ignore_index=True)\n",
        "x_ts_df = x_ts_df.iloc[:,1:]\n",
        "x_val_data=x_ts_df.values\n",
        "x_val_data=StandardScaler().fit_transform(x_val_data)\n",
        "\n",
        "y_ts_df = pd.concat(ytestli, axis=0, ignore_index=True)\n",
        "y_ts_df = y_ts_df.iloc[:,1:]\n",
        "y_val_data=y_ts_df.values"
      ],
      "execution_count": 0,
      "outputs": []
    },
    {
      "cell_type": "markdown",
      "metadata": {
        "id": "JrJ1nnJR5pRO",
        "colab_type": "text"
      },
      "source": [
        "Generator for test data"
      ]
    },
    {
      "cell_type": "code",
      "metadata": {
        "colab_type": "code",
        "id": "aevnPQqSEa-S",
        "colab": {}
      },
      "source": [
        "def val_generator(feature,x_val):\n",
        "    while 1:\n",
        "        batch_size = 1\n",
        "        x_time_data = np.zeros((batch_size, time_steps//subsample,feature))\n",
        "        yy = []\n",
        "        for i in range(batch_size):\n",
        "            random_index = np.random.randint(0, len(x_val)-time_steps)\n",
        "            x_time_data[i] = x_val[random_index:random_index+time_steps:subsample]\n",
        "            yy.append(y_val_data[random_index + time_steps])\n",
        "        yy = np.asarray(yy)\n",
        "        yield x_time_data.reshape((x_time_data.shape[0],x_time_data.shape[1], x_time_data.shape[2], 1)), yy"
      ],
      "execution_count": 0,
      "outputs": []
    },
    {
      "cell_type": "code",
      "metadata": {
        "colab_type": "code",
        "id": "bKWzVUMW1TDB",
        "colab": {}
      },
      "source": [
        "gen_data = val_generator(32,x_val_data)\n",
        "scores = []\n",
        "predictions = []\n",
        "y_actual = []\n",
        "num_test = 1000\n",
        "for i in range(num_test):\n",
        "  x_test, y_test = next(gen_data)\n",
        "  while not 1 in y_test:\n",
        "    x_test, y_test = next(gen_data)\n",
        "\n",
        "  y_out = model.predict(x_test)\n",
        "  predictions.append(y_out)\n",
        "  y_actual.append(y_test)"
      ],
      "execution_count": 0,
      "outputs": []
    },
    {
      "cell_type": "code",
      "metadata": {
        "colab_type": "code",
        "id": "9pnNlNuZ41hg",
        "colab": {}
      },
      "source": [
        "temp = np.array(predictions).reshape(1000,6)\n",
        "prediction_df = pd.DataFrame(temp)\n",
        "m = np.zeros_like(prediction_df.values)\n",
        "m[np.arange(len(prediction_df)), prediction_df.values.argmax(1)] = 1\n",
        "prediction_df = pd.DataFrame(m, columns = prediction_df.columns).astype(int)\n",
        "temp = np.concatenate(y_actual).reshape(1000,6)\n",
        "y_actual_df = pd.DataFrame(temp)"
      ],
      "execution_count": 0,
      "outputs": []
    },
    {
      "cell_type": "markdown",
      "metadata": {
        "id": "Dwrf8lr15t1P",
        "colab_type": "text"
      },
      "source": [
        "Calculating the performance metrics"
      ]
    },
    {
      "cell_type": "code",
      "metadata": {
        "id": "CaN4luejK1rX",
        "colab_type": "code",
        "colab": {}
      },
      "source": [
        "events=['HandStart','FirstDigitTouch','BothStartLoadPhase','LiftOff','Replace','BothReleased']\n",
        "for i in range(6):\n",
        "  # accuracy: (tp + tn) / (p + n)\n",
        "  accuracy = accuracy_score(y_actual_df.iloc[:,i].values,prediction_df.iloc[:,i].values)\n",
        "  print('Accuracy for %s: %f' %(events[i],accuracy))\n",
        "  # precision tp / (tp + fp)\n",
        "  precision = precision_score(y_actual_df.iloc[:,i].values,prediction_df.iloc[:,i].values)\n",
        "  print('precision for %s: %f' %(events[i],precision))\n",
        "  # recall: tp / (tp + fn)\n",
        "  recall = recall_score(y_actual_df.iloc[:,i].values,prediction_df.iloc[:,i].values)\n",
        "  print('recall for %s: %f' %(events[i],recall))\n",
        "  # f1: 2 tp / (2 tp + fp + fn)\n",
        "  f1 = f1_score(y_actual_df.iloc[:,i].values,prediction_df.iloc[:,i].values)\n",
        "  print('f1_score for %s: %f' %(events[i],f1))\n",
        "  print('\\n')\n"
      ],
      "execution_count": 0,
      "outputs": []
    },
    {
      "cell_type": "markdown",
      "metadata": {
        "id": "QJqgkHPI5yvD",
        "colab_type": "text"
      },
      "source": [
        "Plotting AUC"
      ]
    },
    {
      "cell_type": "code",
      "metadata": {
        "colab_type": "code",
        "id": "EKRd5U8c6aHC",
        "colab": {}
      },
      "source": [
        "plt.figure(0).clf()\n",
        "for i in range(6):\n",
        "  fpr, tpr, thresh = metrics.roc_curve(y_actual_df.iloc[:,i].values,prediction_df.iloc[:,i].values)\n",
        "  auc = metrics.roc_auc_score(y_actual_df.iloc[:,i].values,prediction_df.iloc[:,i].values)\n",
        "  plt.plot(fpr,tpr,label=str(events[i])+\", auc=\"+str(round(auc,3)))\n",
        "plt.legend(loc=0)"
      ],
      "execution_count": 0,
      "outputs": []
    },
    {
      "cell_type": "markdown",
      "metadata": {
        "id": "t3vgyt6-Z8uS",
        "colab_type": "text"
      },
      "source": [
        "## PCA"
      ]
    },
    {
      "cell_type": "code",
      "metadata": {
        "id": "J59uC95lZ8Vx",
        "colab_type": "code",
        "colab": {}
      },
      "source": [
        "from sklearn.decomposition import PCA\n",
        "pca = PCA(n_components = 21)\n",
        "pca.fit(Xsc)\n",
        "X_train_pca = pca.transform(Xsc)"
      ],
      "execution_count": 0,
      "outputs": []
    },
    {
      "cell_type": "code",
      "metadata": {
        "id": "215z2SCLYn20",
        "colab_type": "code",
        "colab": {}
      },
      "source": [
        "model_pca = Sequential()\n",
        "model_pca.add(Conv2D(filters = 64, kernel_size = (7,7), padding = \"same\", activation = \"relu\", input_shape = (time_steps//subsample, 32, 1)))\n",
        "model_pca.add(BatchNormalization())\n",
        "model_pca.add(Conv2D(filters = 64, kernel_size = (5,5), padding = \"same\", activation = \"relu\", input_shape = (time_steps//subsample, 32, 1)))\n",
        "model_pca.add(BatchNormalization())\n",
        "model_pca.add(Conv2D(filters = 64, kernel_size = (3,3), padding = \"same\", activation = \"relu\", input_shape = (time_steps//subsample, 32, 1)))\n",
        "model_pca.add(BatchNormalization())\n",
        "model_pca.add(Flatten())\n",
        "model_pca.add(Dense(32, activation = \"relu\"))\n",
        "model_pca.add(BatchNormalization())\n",
        "model_pca.add(Dense(6, activation = \"sigmoid\"))\n",
        "\n",
        "adam = adam(lr = 0.001)\n",
        "\n",
        "model_pca.compile(optimizer = adam, loss = \"categorical_crossentropy\", metrics = [\"accuracy\"])\n",
        "\n",
        "model_pca.summary()"
      ],
      "execution_count": 0,
      "outputs": []
    },
    {
      "cell_type": "code",
      "metadata": {
        "id": "euNl3iLZYnxa",
        "colab_type": "code",
        "colab": {}
      },
      "source": [
        "model_pca.fit_generator(generator(32,X_train_pca,21), steps_per_epoch = 20000, epochs = 25)"
      ],
      "execution_count": 0,
      "outputs": []
    },
    {
      "cell_type": "markdown",
      "metadata": {
        "id": "59NL1Npp6QeM",
        "colab_type": "text"
      },
      "source": [
        "Finding PCA components"
      ]
    },
    {
      "cell_type": "code",
      "metadata": {
        "id": "1ywtkV2uDll9",
        "colab_type": "code",
        "colab": {}
      },
      "source": [
        "pca = PCA(n_components = 21)\n",
        "pca.fit(x_val_data)\n",
        "X_test_pca = pca.transform(x_val_data)"
      ],
      "execution_count": 0,
      "outputs": []
    },
    {
      "cell_type": "code",
      "metadata": {
        "id": "6n76ALkRYnuq",
        "colab_type": "code",
        "colab": {}
      },
      "source": [
        "gen_data = val_generator(21,X_test_pca)\n",
        "scores = []\n",
        "predictions = []\n",
        "y_actual = []\n",
        "num_test = 1000\n",
        "\n",
        "for i in range(num_test):\n",
        "  x_test, y_test = next(gen_data)\n",
        "  while not 1 in y_test:\n",
        "    x_test, y_test = next(gen_data)\n",
        "    \n",
        "  y_out = model_pca.predict(x_test)\n",
        "  predictions.append(y_out)\n",
        "  y_actual.append(y_test)"
      ],
      "execution_count": 0,
      "outputs": []
    },
    {
      "cell_type": "code",
      "metadata": {
        "id": "CeCNRvPEYntc",
        "colab_type": "code",
        "colab": {}
      },
      "source": [
        "temp = np.array(predictions).reshape(1000,6)\n",
        "prediction_df = pd.DataFrame(temp)\n",
        "m = np.zeros_like(prediction_df.values)\n",
        "m[np.arange(len(prediction_df)), prediction_df.values.argmax(1)] = 1\n",
        "prediction_df = pd.DataFrame(m, columns = prediction_df.columns).astype(int)\n",
        "temp = np.concatenate(y_actual).reshape(1000,6)\n",
        "y_actual_df = pd.DataFrame(temp)"
      ],
      "execution_count": 0,
      "outputs": []
    },
    {
      "cell_type": "code",
      "metadata": {
        "id": "HX503Uv5YnWg",
        "colab_type": "code",
        "colab": {}
      },
      "source": [
        "events=['HandStart','FirstDigitTouch','BothStartLoadPhase','LiftOff','Replace','BothReleased']\n",
        "for i in range(6):\n",
        "  # accuracy: (tp + tn) / (p + n)\n",
        "  accuracy = accuracy_score(y_actual_df.iloc[:,i].values,prediction_df.iloc[:,i].values)\n",
        "  print('Accuracy for %s: %f' %(events[i],accuracy))\n",
        "  # precision tp / (tp + fp)\n",
        "  precision = precision_score(y_actual_df.iloc[:,i].values,prediction_df.iloc[:,i].values)\n",
        "  print('precision for %s: %f' %(events[i],precision))\n",
        "  # recall: tp / (tp + fn)\n",
        "  recall = recall_score(y_actual_df.iloc[:,i].values,prediction_df.iloc[:,i].values)\n",
        "  print('recall for %s: %f' %(events[i],recall))\n",
        "  # f1: 2 tp / (2 tp + fp + fn)\n",
        "  f1 = f1_score(y_actual_df.iloc[:,i].values,prediction_df.iloc[:,i].values)\n",
        "  print('f1_score for %s: %f' %(events[i],f1))\n",
        "  print('\\n')"
      ],
      "execution_count": 0,
      "outputs": []
    },
    {
      "cell_type": "code",
      "metadata": {
        "id": "ZJlhOLOiEZIu",
        "colab_type": "code",
        "colab": {}
      },
      "source": [
        "plt.figure(0).clf()\n",
        "for i in range(6):\n",
        "  fpr, tpr, thresh = metrics.roc_curve(y_actual_df.iloc[:,i].values,prediction_df.iloc[:,i].values)\n",
        "  auc = metrics.roc_auc_score(y_actual_df.iloc[:,i].values,prediction_df.iloc[:,i].values)\n",
        "  plt.plot(fpr,tpr,label=str(events[i])+\", auc=\"+str(round(auc,3)))\n",
        "plt.legend(loc=0)"
      ],
      "execution_count": 0,
      "outputs": []
    },
    {
      "cell_type": "markdown",
      "metadata": {
        "id": "Onf6UB6mcvKo",
        "colab_type": "text"
      },
      "source": [
        "## PCA and Filter"
      ]
    },
    {
      "cell_type": "code",
      "metadata": {
        "id": "wZv0flf_fp2k",
        "colab_type": "code",
        "colab": {}
      },
      "source": [
        "x_data_df=x_df.copy()\n",
        "x_test_df=x_ts_df.copy()"
      ],
      "execution_count": 0,
      "outputs": []
    },
    {
      "cell_type": "code",
      "metadata": {
        "id": "GxOWklXQfTsg",
        "colab_type": "code",
        "colab": {}
      },
      "source": [
        "fs = 1000  # Sampling frequency\n",
        "fc = 40  # Cut-off frequency of the filter\n",
        "w = fc / (fs / 2) # Normalize the frequency\n",
        "for col in x_data_df.columns:\n",
        "  b, a = signal.butter(8, w, 'low')\n",
        "  x_data_df[col] = signal.filtfilt(b, a, x_data_df[col].values)"
      ],
      "execution_count": 0,
      "outputs": []
    },
    {
      "cell_type": "code",
      "metadata": {
        "id": "LxIgdaJvgCjV",
        "colab_type": "code",
        "colab": {}
      },
      "source": [
        "Xsc = StandardScaler().fit_transform(x_data_df.values)\n",
        "Xsc=pd.DataFrame(Xsc)\n",
        "y=pd.DataFrame(y_data)"
      ],
      "execution_count": 0,
      "outputs": []
    },
    {
      "cell_type": "code",
      "metadata": {
        "id": "L0FZBsKcgc7w",
        "colab_type": "code",
        "colab": {}
      },
      "source": [
        "pca_filter = PCA(n_components = 21)\n",
        "pca_filter.fit(Xsc)\n",
        "X_train_filter_pca = pca_filter.transform(Xsc)"
      ],
      "execution_count": 0,
      "outputs": []
    },
    {
      "cell_type": "code",
      "metadata": {
        "id": "u3OkAZ36gyuv",
        "colab_type": "code",
        "colab": {}
      },
      "source": [
        "model_pca_filter = Sequential()\n",
        "model_pca_filter.add(Conv2D(filters = 64, kernel_size = (7,7), padding = \"same\", activation = \"relu\", input_shape = (time_steps//subsample, 32, 1)))\n",
        "model_pca_filter.add(BatchNormalization())\n",
        "model_pca_filter.add(Conv2D(filters = 64, kernel_size = (5,5), padding = \"same\", activation = \"relu\", input_shape = (time_steps//subsample, 32, 1)))\n",
        "model_pca_filter.add(BatchNormalization())\n",
        "model_pca_filter.add(Conv2D(filters = 64, kernel_size = (3,3), padding = \"same\", activation = \"relu\", input_shape = (time_steps//subsample, 32, 1)))\n",
        "model_pca_filter.add(BatchNormalization())\n",
        "model_pca_filter.add(Flatten())\n",
        "model_pca_filter.add(Dense(32, activation = \"relu\"))\n",
        "model_pca_filter.add(BatchNormalization())\n",
        "model_pca_filter.add(Dense(6, activation = \"sigmoid\"))\n",
        "\n",
        "adam = adam(lr = 0.001)\n",
        "\n",
        "model_pca_filter.compile(optimizer = adam, loss = \"categorical_crossentropy\", metrics = [\"accuracy\"])\n",
        "\n",
        "model_pca_filter.summary()"
      ],
      "execution_count": 0,
      "outputs": []
    },
    {
      "cell_type": "code",
      "metadata": {
        "id": "keWfH7Mfg_1X",
        "colab_type": "code",
        "colab": {}
      },
      "source": [
        "model_pca_filter.fit_generator(generator(32,X_train_filter_pca,21), steps_per_epoch = 20000, epochs = 25)"
      ],
      "execution_count": 0,
      "outputs": []
    },
    {
      "cell_type": "markdown",
      "metadata": {
        "id": "NeXeIQMB6aM6",
        "colab_type": "text"
      },
      "source": [
        "Applying the Butterworth Filter"
      ]
    },
    {
      "cell_type": "code",
      "metadata": {
        "id": "7hgnP4ZBirsA",
        "colab_type": "code",
        "colab": {}
      },
      "source": [
        "for col in x_test_df.columns:\n",
        "  b, a = signal.butter(8, w, 'low')\n",
        "  x_test_df[col] = signal.filtfilt(b, a, x_test_df[col].values)\n",
        "x_test_sc=StandardScaler().fit_transform(x_test_df.values)\n",
        "x_test_sc=pd.DataFrame(x_test_sc)"
      ],
      "execution_count": 0,
      "outputs": []
    },
    {
      "cell_type": "code",
      "metadata": {
        "id": "cP3I1h4mnIWv",
        "colab_type": "code",
        "colab": {}
      },
      "source": [
        "pca_filter = PCA(n_components = 21)\n",
        "pca_filter.fit(x_test_sc)\n",
        "X_test_filter_pca = pca_filter.transform(x_test_sc)"
      ],
      "execution_count": 0,
      "outputs": []
    },
    {
      "cell_type": "code",
      "metadata": {
        "id": "nTdbDKsQhKMy",
        "colab_type": "code",
        "colab": {}
      },
      "source": [
        "gen_data = val_generator(21,X_test_filter)\n",
        "scores = []\n",
        "predictions = []\n",
        "y_actual = []\n",
        "num_test = 1000\n",
        "\n",
        "for i in range(num_test):\n",
        "  x_test, y_test = next(gen_data)\n",
        "  while not 1 in y_test:\n",
        "    x_test, y_test = next(gen_data)\n",
        "    \n",
        "  y_out = model_pca_filter.predict(x_test)\n",
        "  predictions.append(y_out)\n",
        "  y_actual.append(y_test)"
      ],
      "execution_count": 0,
      "outputs": []
    },
    {
      "cell_type": "code",
      "metadata": {
        "id": "_dtiZRDvCItC",
        "colab_type": "code",
        "colab": {}
      },
      "source": [
        "temp = np.array(predictions).reshape(1000,6)\n",
        "prediction_df = pd.DataFrame(temp)\n",
        "m = np.zeros_like(prediction_df.values)\n",
        "m[np.arange(len(prediction_df)), prediction_df.values.argmax(1)] = 1\n",
        "prediction_df = pd.DataFrame(m, columns = prediction_df.columns).astype(int)\n",
        "temp = np.concatenate(y_actual).reshape(1000,6)\n",
        "y_actual_df = pd.DataFrame(temp)"
      ],
      "execution_count": 0,
      "outputs": []
    },
    {
      "cell_type": "code",
      "metadata": {
        "id": "rnXElIBkCKUX",
        "colab_type": "code",
        "colab": {}
      },
      "source": [
        "events=['HandStart','FirstDigitTouch','BothStartLoadPhase','LiftOff','Replace','BothReleased']\n",
        "for i in range(6):\n",
        "  # accuracy: (tp + tn) / (p + n)\n",
        "  accuracy = accuracy_score(y_actual_df.iloc[:,i].values,prediction_df.iloc[:,i].values)\n",
        "  print('Accuracy for %s: %f' %(events[i],accuracy))\n",
        "  # precision tp / (tp + fp)\n",
        "  precision = precision_score(y_actual_df.iloc[:,i].values,prediction_df.iloc[:,i].values)\n",
        "  print('precision for %s: %f' %(events[i],precision))\n",
        "  # recall: tp / (tp + fn)\n",
        "  recall = recall_score(y_actual_df.iloc[:,i].values,prediction_df.iloc[:,i].values)\n",
        "  print('recall for %s: %f' %(events[i],recall))\n",
        "  # f1: 2 tp / (2 tp + fp + fn)\n",
        "  f1 = f1_score(y_actual_df.iloc[:,i].values,prediction_df.iloc[:,i].values)\n",
        "  print('f1_score for %s: %f' %(events[i],f1))\n",
        "  print('\\n')"
      ],
      "execution_count": 0,
      "outputs": []
    },
    {
      "cell_type": "code",
      "metadata": {
        "id": "Wf06ErYaCXEI",
        "colab_type": "code",
        "colab": {}
      },
      "source": [
        "plt.figure(0).clf()\n",
        "for i in range(6):\n",
        "  fpr, tpr, thresh = metrics.roc_curve(y_actual_df.iloc[:,i].values,prediction_df.iloc[:,i].values)\n",
        "  auc = metrics.roc_auc_score(y_actual_df.iloc[:,i].values,prediction_df.iloc[:,i].values)\n",
        "  plt.plot(fpr,tpr,label=str(events[i])+\", auc=\"+str(round(auc,3)))\n",
        "plt.legend(loc=0)"
      ],
      "execution_count": 0,
      "outputs": []
    }
  ]
}